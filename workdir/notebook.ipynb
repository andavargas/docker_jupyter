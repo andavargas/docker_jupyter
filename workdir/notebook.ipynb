{
 "cells": [
  {
   "cell_type": "code",
   "execution_count": null,
   "id": "de6cc341",
   "metadata": {},
   "outputs": [],
   "source": [
    "from my_module import my_function"
   ]
  },
  {
   "cell_type": "code",
   "execution_count": null,
   "id": "bf56e297",
   "metadata": {},
   "outputs": [],
   "source": [
    "filepath = 'files/my_data.csv'\n",
    "my_function(filepath)"
   ]
  },
  {
   "cell_type": "code",
   "execution_count": null,
   "id": "8999ebdd",
   "metadata": {},
   "outputs": [],
   "source": []
  }
 ],
 "metadata": {
  "kernelspec": {
   "display_name": "Python 3 (ipykernel)",
   "language": "python",
   "name": "python3"
  },
  "language_info": {
   "codemirror_mode": {
    "name": "ipython",
    "version": 3
   },
   "file_extension": ".py",
   "mimetype": "text/x-python",
   "name": "python",
   "nbconvert_exporter": "python",
   "pygments_lexer": "ipython3",
   "version": "3.9.7"
  }
 },
 "nbformat": 4,
 "nbformat_minor": 5
}
